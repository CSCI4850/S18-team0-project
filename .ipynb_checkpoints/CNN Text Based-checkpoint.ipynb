{
 "cells": [
  {
   "cell_type": "code",
   "execution_count": 1,
   "metadata": {},
   "outputs": [
    {
     "name": "stderr",
     "output_type": "stream",
     "text": [
      "/home/csci4850/lib/python3.5/site-packages/h5py/__init__.py:36: FutureWarning: Conversion of the second argument of issubdtype from `float` to `np.floating` is deprecated. In future, it will be treated as `np.float64 == np.dtype(float).type`.\n",
      "  from ._conv import register_converters as _register_converters\n",
      "Using TensorFlow backend.\n"
     ]
    }
   ],
   "source": [
    "import keras\n",
    "import numpy as np\n",
    "import matplotlib.pyplot as plt\n",
    "%matplotlib inline\n",
    "from IPython.display import display"
   ]
  },
  {
   "cell_type": "code",
   "execution_count": 2,
   "metadata": {},
   "outputs": [
    {
     "name": "stdout",
     "output_type": "stream",
     "text": [
      "144\n",
      "300\n",
      "X_training shape: (144, 300, 1)\n",
      "================\n",
      "144\n",
      "100\n"
     ]
    }
   ],
   "source": [
    "# need to get data setup and organized (it is mostly)\n",
    "data = []\n",
    "one_hot_index = 0\n",
    "reviewers = {}\n",
    "y_training = []\n",
    "\n",
    "# need to find out exactly how many unique reviewerIDs there are;\n",
    "# that will replace 100 in np.zeros, since that will be the output of the final softmax layer\n",
    "\n",
    "authors = 100\n",
    "\n",
    "with open('file2.out') as file:\n",
    "    for line in file:\n",
    "        split = line.split('\\t')\n",
    "        vectorVals = split[0][1:-1].split(',')\n",
    "        reviewerID = split[1].strip()\n",
    "        if reviewerID not in reviewers:\n",
    "            reviewers[reviewerID] = np.zeros(authors)\n",
    "            reviewers[reviewerID][one_hot_index] = 1\n",
    "            one_hot_index += 1\n",
    "            y_training.append(reviewers[reviewerID])\n",
    "        else:\n",
    "            y_training.append(reviewers[reviewerID])\n",
    "        data.append([float(x) for x in vectorVals])\n",
    "        # need to go thru file to find out how many unique authors, capped at 100 for testing a small sample set\n",
    "        if one_hot_index == 100:\n",
    "            break\n",
    "print(len(data))\n",
    "print(len(data[0]))\n",
    "\n",
    "# =====================================================\n",
    "# =====================================================\n",
    "x_training = np.array(data)\n",
    "# convert the 2d to 3d representation\n",
    "x_training = x_training.reshape(x_training.shape + (1,))\n",
    "output_shape = x_training.shape[1]\n",
    "input_shape = x_training.shape[2]\n",
    "y_training = np.array(y_training)\n",
    "print('X_training shape: ' + str(x_training.shape))\n",
    "# =====================================================\n",
    "# =====================================================\n",
    "\n",
    "print('='*16)\n",
    "print(len(y_training))\n",
    "print(len(y_training[0]))"
   ]
  },
  {
   "cell_type": "code",
   "execution_count": 10,
   "metadata": {},
   "outputs": [
    {
     "ename": "NameError",
     "evalue": "name 'Flatten' is not defined",
     "output_type": "error",
     "traceback": [
      "\u001b[0;31m---------------------------------------------------------------------------\u001b[0m",
      "\u001b[0;31mNameError\u001b[0m                                 Traceback (most recent call last)",
      "\u001b[0;32m<ipython-input-10-753c21555d3b>\u001b[0m in \u001b[0;36m<module>\u001b[0;34m()\u001b[0m\n\u001b[1;32m      5\u001b[0m                  input_shape=[output_shape,\n\u001b[1;32m      6\u001b[0m                               input_shape]))\n\u001b[0;32m----> 7\u001b[0;31m \u001b[0mmodel\u001b[0m\u001b[0;34m.\u001b[0m\u001b[0madd\u001b[0m\u001b[0;34m(\u001b[0m\u001b[0mFlatten\u001b[0m\u001b[0;34m(\u001b[0m\u001b[0;34m)\u001b[0m\u001b[0;34m)\u001b[0m\u001b[0;34m\u001b[0m\u001b[0m\n\u001b[0m\u001b[1;32m      8\u001b[0m \u001b[0;31m#model.add(keras.layers.SimpleRNN(20, activation='tanh', use_bias=True,\u001b[0m\u001b[0;34m\u001b[0m\u001b[0;34m\u001b[0m\u001b[0m\n\u001b[1;32m      9\u001b[0m \u001b[0;31m#                       kernel_initializer='glorot_uniform', recurrent_initializer='orthogonal',\u001b[0m\u001b[0;34m\u001b[0m\u001b[0;34m\u001b[0m\u001b[0m\n",
      "\u001b[0;31mNameError\u001b[0m: name 'Flatten' is not defined"
     ]
    }
   ],
   "source": [
    "model = keras.Sequential()\n",
    "\n",
    "model.add(keras.layers.Conv1D(300, kernel_size=(3), strides=(1),\n",
    "                 activation='tanh',\n",
    "                 input_shape=[output_shape,\n",
    "                              input_shape]))\n",
    "model.add(keras.layers.Flatten())\n",
    "#model.add(keras.layers.SimpleRNN(20, activation='tanh', use_bias=True, \n",
    "#                       kernel_initializer='glorot_uniform', recurrent_initializer='orthogonal', \n",
    "#                       bias_initializer='zeros', kernel_regularizer=None, recurrent_regularizer=None, \n",
    "#                       bias_regularizer=None, activity_regularizer=None, kernel_constraint=None, \n",
    "#                       recurrent_constraint=None, bias_constraint=None, dropout=0.0, recurrent_dropout=0.15, \n",
    "#                       return_sequences=False, return_state=False, go_backwards=False, stateful=False, unroll=False))\n",
    "\n",
    "model.add(keras.layers.Dropout(.20, noise_shape=None, seed=None))\n",
    "model.add(keras.layers.Dense(600, activation='tanh'))\n",
    "#model.add(keras.layers.Dense(300, activation='tanh'))\n",
    "#model.add(keras.layers.Dropout(.50, noise_shape=None, seed=None))\n",
    "#model.add(keras.layers.GlobalMaxPool1D()) \n",
    "model.add(keras.layers.Dense(y_training.shape[1], activation='softmax'))\n",
    "\n",
    "#model.compile(loss=keras.losses.sparse_categorical_crossentropy,\n",
    "#    optimizer=keras.optimizers.Adam(),\n",
    "#    metrics=['accuracy'])\n",
    "\n",
    "model.compile(loss=keras.losses.categorical_crossentropy,\n",
    "    optimizer=keras.optimizers.Adam(),\n",
    "    metrics=['accuracy'])\n",
    "\n",
    "model.summary()\n"
   ]
  },
  {
   "cell_type": "code",
   "execution_count": 9,
   "metadata": {},
   "outputs": [
    {
     "name": "stdout",
     "output_type": "stream",
     "text": [
      "Train on 115 samples, validate on 29 samples\n",
      "Epoch 1/1000\n",
      "115/115 [==============================] - 4s 34ms/step - loss: 4.6063 - acc: 0.0348 - val_loss: 4.7008 - val_acc: 0.0345\n",
      "Epoch 2/1000\n",
      "115/115 [==============================] - 2s 19ms/step - loss: 4.3982 - acc: 0.0783 - val_loss: 4.8778 - val_acc: 0.0690\n",
      "Epoch 3/1000\n",
      "115/115 [==============================] - 2s 18ms/step - loss: 4.0372 - acc: 0.1304 - val_loss: 5.0814 - val_acc: 0.0345\n",
      "Epoch 4/1000\n",
      "115/115 [==============================] - 2s 18ms/step - loss: 3.8408 - acc: 0.1217 - val_loss: 5.2672 - val_acc: 0.0000e+00\n",
      "Epoch 5/1000\n",
      "115/115 [==============================] - 2s 18ms/step - loss: 3.5963 - acc: 0.1913 - val_loss: 5.5322 - val_acc: 0.0000e+00\n",
      "Epoch 6/1000\n",
      "115/115 [==============================] - 2s 19ms/step - loss: 3.4126 - acc: 0.1652 - val_loss: 5.6449 - val_acc: 0.0000e+00\n",
      "Epoch 7/1000\n",
      "115/115 [==============================] - 2s 18ms/step - loss: 3.2516 - acc: 0.1826 - val_loss: 5.6940 - val_acc: 0.0000e+00\n",
      "Epoch 8/1000\n",
      "115/115 [==============================] - 2s 18ms/step - loss: 3.0775 - acc: 0.2261 - val_loss: 5.8392 - val_acc: 0.0000e+00\n",
      "Epoch 9/1000\n",
      "115/115 [==============================] - 2s 18ms/step - loss: 2.8736 - acc: 0.2696 - val_loss: 6.0490 - val_acc: 0.0345\n",
      "Epoch 10/1000\n",
      "115/115 [==============================] - 2s 19ms/step - loss: 2.8058 - acc: 0.2870 - val_loss: 6.0865 - val_acc: 0.0345\n",
      "Epoch 11/1000\n",
      "115/115 [==============================] - 2s 20ms/step - loss: 2.6344 - acc: 0.3391 - val_loss: 6.2972 - val_acc: 0.0000e+00\n",
      "Epoch 12/1000\n",
      "115/115 [==============================] - 2s 20ms/step - loss: 2.5165 - acc: 0.2870 - val_loss: 6.5111 - val_acc: 0.0345\n",
      "Epoch 13/1000\n",
      "115/115 [==============================] - 2s 20ms/step - loss: 2.2808 - acc: 0.3565 - val_loss: 6.6037 - val_acc: 0.0345\n",
      "Epoch 14/1000\n",
      "115/115 [==============================] - 3s 22ms/step - loss: 2.1782 - acc: 0.4174 - val_loss: 6.6672 - val_acc: 0.0690\n",
      "Epoch 15/1000\n",
      "115/115 [==============================] - 2s 21ms/step - loss: 2.1606 - acc: 0.3478 - val_loss: 6.8848 - val_acc: 0.0345\n",
      "Epoch 16/1000\n",
      "115/115 [==============================] - 2s 20ms/step - loss: 2.1256 - acc: 0.4522 - val_loss: 6.9886 - val_acc: 0.0345\n",
      "Epoch 17/1000\n",
      "115/115 [==============================] - 2s 21ms/step - loss: 1.8918 - acc: 0.5043 - val_loss: 6.8792 - val_acc: 0.0345\n",
      "Epoch 18/1000\n",
      "115/115 [==============================] - 2s 20ms/step - loss: 1.8862 - acc: 0.5130 - val_loss: 7.1383 - val_acc: 0.0000e+00\n",
      "Epoch 19/1000\n",
      "115/115 [==============================] - 2s 18ms/step - loss: 1.9547 - acc: 0.4174 - val_loss: 7.3520 - val_acc: 0.0345\n",
      "Epoch 20/1000\n",
      "115/115 [==============================] - 2s 18ms/step - loss: 1.6519 - acc: 0.5739 - val_loss: 7.3465 - val_acc: 0.0345\n",
      "Epoch 21/1000\n",
      "115/115 [==============================] - 2s 18ms/step - loss: 1.7089 - acc: 0.5478 - val_loss: 7.5733 - val_acc: 0.0000e+00\n",
      "Epoch 22/1000\n",
      "115/115 [==============================] - 2s 18ms/step - loss: 1.6307 - acc: 0.5304 - val_loss: 7.5852 - val_acc: 0.0690\n",
      "Epoch 23/1000\n",
      "115/115 [==============================] - 2s 20ms/step - loss: 1.4911 - acc: 0.6435 - val_loss: 7.7321 - val_acc: 0.0345\n",
      "Epoch 24/1000\n",
      "115/115 [==============================] - 2s 21ms/step - loss: 1.4006 - acc: 0.6087 - val_loss: 7.7489 - val_acc: 0.0345\n",
      "Epoch 25/1000\n",
      "115/115 [==============================] - 2s 20ms/step - loss: 1.5675 - acc: 0.5217 - val_loss: 7.9595 - val_acc: 0.0000e+00\n",
      "Epoch 26/1000\n",
      "115/115 [==============================] - 2s 21ms/step - loss: 1.5132 - acc: 0.5565 - val_loss: 8.0372 - val_acc: 0.0000e+00\n",
      "Epoch 27/1000\n",
      "100/115 [=========================>....] - ETA: 0s - loss: 1.3005 - acc: 0.6500"
     ]
    },
    {
     "ename": "KeyboardInterrupt",
     "evalue": "",
     "output_type": "error",
     "traceback": [
      "\u001b[0;31m---------------------------------------------------------------------------\u001b[0m",
      "\u001b[0;31mKeyboardInterrupt\u001b[0m                         Traceback (most recent call last)",
      "\u001b[0;32m<ipython-input-9-065620d7d0d1>\u001b[0m in \u001b[0;36m<module>\u001b[0;34m()\u001b[0m\n\u001b[1;32m     25\u001b[0m     \u001b[0mepochs\u001b[0m\u001b[0;34m=\u001b[0m\u001b[0mepochs\u001b[0m\u001b[0;34m,\u001b[0m\u001b[0;34m\u001b[0m\u001b[0m\n\u001b[1;32m     26\u001b[0m     \u001b[0mverbose\u001b[0m\u001b[0;34m=\u001b[0m\u001b[0;36m1\u001b[0m\u001b[0;34m,\u001b[0m \u001b[0;31m#)\u001b[0m\u001b[0;34m\u001b[0m\u001b[0m\n\u001b[0;32m---> 27\u001b[0;31m     validation_split = 0.2)\n\u001b[0m",
      "\u001b[0;32m/home/csci4850/lib/python3.5/site-packages/keras/models.py\u001b[0m in \u001b[0;36mfit\u001b[0;34m(self, x, y, batch_size, epochs, verbose, callbacks, validation_split, validation_data, shuffle, class_weight, sample_weight, initial_epoch, steps_per_epoch, validation_steps, **kwargs)\u001b[0m\n\u001b[1;32m    958\u001b[0m                               \u001b[0minitial_epoch\u001b[0m\u001b[0;34m=\u001b[0m\u001b[0minitial_epoch\u001b[0m\u001b[0;34m,\u001b[0m\u001b[0;34m\u001b[0m\u001b[0m\n\u001b[1;32m    959\u001b[0m                               \u001b[0msteps_per_epoch\u001b[0m\u001b[0;34m=\u001b[0m\u001b[0msteps_per_epoch\u001b[0m\u001b[0;34m,\u001b[0m\u001b[0;34m\u001b[0m\u001b[0m\n\u001b[0;32m--> 960\u001b[0;31m                               validation_steps=validation_steps)\n\u001b[0m\u001b[1;32m    961\u001b[0m \u001b[0;34m\u001b[0m\u001b[0m\n\u001b[1;32m    962\u001b[0m     def evaluate(self, x, y, batch_size=32, verbose=1,\n",
      "\u001b[0;32m/home/csci4850/lib/python3.5/site-packages/keras/engine/training.py\u001b[0m in \u001b[0;36mfit\u001b[0;34m(self, x, y, batch_size, epochs, verbose, callbacks, validation_split, validation_data, shuffle, class_weight, sample_weight, initial_epoch, steps_per_epoch, validation_steps, **kwargs)\u001b[0m\n\u001b[1;32m   1655\u001b[0m                               \u001b[0minitial_epoch\u001b[0m\u001b[0;34m=\u001b[0m\u001b[0minitial_epoch\u001b[0m\u001b[0;34m,\u001b[0m\u001b[0;34m\u001b[0m\u001b[0m\n\u001b[1;32m   1656\u001b[0m                               \u001b[0msteps_per_epoch\u001b[0m\u001b[0;34m=\u001b[0m\u001b[0msteps_per_epoch\u001b[0m\u001b[0;34m,\u001b[0m\u001b[0;34m\u001b[0m\u001b[0m\n\u001b[0;32m-> 1657\u001b[0;31m                               validation_steps=validation_steps)\n\u001b[0m\u001b[1;32m   1658\u001b[0m \u001b[0;34m\u001b[0m\u001b[0m\n\u001b[1;32m   1659\u001b[0m     def evaluate(self, x=None, y=None,\n",
      "\u001b[0;32m/home/csci4850/lib/python3.5/site-packages/keras/engine/training.py\u001b[0m in \u001b[0;36m_fit_loop\u001b[0;34m(self, f, ins, out_labels, batch_size, epochs, verbose, callbacks, val_f, val_ins, shuffle, callback_metrics, initial_epoch, steps_per_epoch, validation_steps)\u001b[0m\n\u001b[1;32m   1225\u001b[0m                             val_outs = self._test_loop(val_f, val_ins,\n\u001b[1;32m   1226\u001b[0m                                                        \u001b[0mbatch_size\u001b[0m\u001b[0;34m=\u001b[0m\u001b[0mbatch_size\u001b[0m\u001b[0;34m,\u001b[0m\u001b[0;34m\u001b[0m\u001b[0m\n\u001b[0;32m-> 1227\u001b[0;31m                                                        verbose=0)\n\u001b[0m\u001b[1;32m   1228\u001b[0m                             \u001b[0;32mif\u001b[0m \u001b[0;32mnot\u001b[0m \u001b[0misinstance\u001b[0m\u001b[0;34m(\u001b[0m\u001b[0mval_outs\u001b[0m\u001b[0;34m,\u001b[0m \u001b[0mlist\u001b[0m\u001b[0;34m)\u001b[0m\u001b[0;34m:\u001b[0m\u001b[0;34m\u001b[0m\u001b[0m\n\u001b[1;32m   1229\u001b[0m                                 \u001b[0mval_outs\u001b[0m \u001b[0;34m=\u001b[0m \u001b[0;34m[\u001b[0m\u001b[0mval_outs\u001b[0m\u001b[0;34m]\u001b[0m\u001b[0;34m\u001b[0m\u001b[0m\n",
      "\u001b[0;32m/home/csci4850/lib/python3.5/site-packages/keras/engine/training.py\u001b[0m in \u001b[0;36m_test_loop\u001b[0;34m(self, f, ins, batch_size, verbose, steps)\u001b[0m\n\u001b[1;32m   1368\u001b[0m                     \u001b[0mins_batch\u001b[0m \u001b[0;34m=\u001b[0m \u001b[0m_slice_arrays\u001b[0m\u001b[0;34m(\u001b[0m\u001b[0mins\u001b[0m\u001b[0;34m,\u001b[0m \u001b[0mbatch_ids\u001b[0m\u001b[0;34m)\u001b[0m\u001b[0;34m\u001b[0m\u001b[0m\n\u001b[1;32m   1369\u001b[0m \u001b[0;34m\u001b[0m\u001b[0m\n\u001b[0;32m-> 1370\u001b[0;31m                 \u001b[0mbatch_outs\u001b[0m \u001b[0;34m=\u001b[0m \u001b[0mf\u001b[0m\u001b[0;34m(\u001b[0m\u001b[0mins_batch\u001b[0m\u001b[0;34m)\u001b[0m\u001b[0;34m\u001b[0m\u001b[0m\n\u001b[0m\u001b[1;32m   1371\u001b[0m                 \u001b[0;32mif\u001b[0m \u001b[0misinstance\u001b[0m\u001b[0;34m(\u001b[0m\u001b[0mbatch_outs\u001b[0m\u001b[0;34m,\u001b[0m \u001b[0mlist\u001b[0m\u001b[0;34m)\u001b[0m\u001b[0;34m:\u001b[0m\u001b[0;34m\u001b[0m\u001b[0m\n\u001b[1;32m   1372\u001b[0m                     \u001b[0;32mif\u001b[0m \u001b[0mbatch_index\u001b[0m \u001b[0;34m==\u001b[0m \u001b[0;36m0\u001b[0m\u001b[0;34m:\u001b[0m\u001b[0;34m\u001b[0m\u001b[0m\n",
      "\u001b[0;32m/home/csci4850/lib/python3.5/site-packages/keras/backend/tensorflow_backend.py\u001b[0m in \u001b[0;36m__call__\u001b[0;34m(self, inputs)\u001b[0m\n\u001b[1;32m   2355\u001b[0m         \u001b[0msession\u001b[0m \u001b[0;34m=\u001b[0m \u001b[0mget_session\u001b[0m\u001b[0;34m(\u001b[0m\u001b[0;34m)\u001b[0m\u001b[0;34m\u001b[0m\u001b[0m\n\u001b[1;32m   2356\u001b[0m         updated = session.run(fetches=fetches, feed_dict=feed_dict,\n\u001b[0;32m-> 2357\u001b[0;31m                               **self.session_kwargs)\n\u001b[0m\u001b[1;32m   2358\u001b[0m         \u001b[0;32mreturn\u001b[0m \u001b[0mupdated\u001b[0m\u001b[0;34m[\u001b[0m\u001b[0;34m:\u001b[0m\u001b[0mlen\u001b[0m\u001b[0;34m(\u001b[0m\u001b[0mself\u001b[0m\u001b[0;34m.\u001b[0m\u001b[0moutputs\u001b[0m\u001b[0;34m)\u001b[0m\u001b[0;34m]\u001b[0m\u001b[0;34m\u001b[0m\u001b[0m\n\u001b[1;32m   2359\u001b[0m \u001b[0;34m\u001b[0m\u001b[0m\n",
      "\u001b[0;32m/home/csci4850/lib/python3.5/site-packages/tensorflow/python/client/session.py\u001b[0m in \u001b[0;36mrun\u001b[0;34m(self, fetches, feed_dict, options, run_metadata)\u001b[0m\n\u001b[1;32m    887\u001b[0m     \u001b[0;32mtry\u001b[0m\u001b[0;34m:\u001b[0m\u001b[0;34m\u001b[0m\u001b[0m\n\u001b[1;32m    888\u001b[0m       result = self._run(None, fetches, feed_dict, options_ptr,\n\u001b[0;32m--> 889\u001b[0;31m                          run_metadata_ptr)\n\u001b[0m\u001b[1;32m    890\u001b[0m       \u001b[0;32mif\u001b[0m \u001b[0mrun_metadata\u001b[0m\u001b[0;34m:\u001b[0m\u001b[0;34m\u001b[0m\u001b[0m\n\u001b[1;32m    891\u001b[0m         \u001b[0mproto_data\u001b[0m \u001b[0;34m=\u001b[0m \u001b[0mtf_session\u001b[0m\u001b[0;34m.\u001b[0m\u001b[0mTF_GetBuffer\u001b[0m\u001b[0;34m(\u001b[0m\u001b[0mrun_metadata_ptr\u001b[0m\u001b[0;34m)\u001b[0m\u001b[0;34m\u001b[0m\u001b[0m\n",
      "\u001b[0;32m/home/csci4850/lib/python3.5/site-packages/tensorflow/python/client/session.py\u001b[0m in \u001b[0;36m_run\u001b[0;34m(self, handle, fetches, feed_dict, options, run_metadata)\u001b[0m\n\u001b[1;32m   1118\u001b[0m     \u001b[0;32mif\u001b[0m \u001b[0mfinal_fetches\u001b[0m \u001b[0;32mor\u001b[0m \u001b[0mfinal_targets\u001b[0m \u001b[0;32mor\u001b[0m \u001b[0;34m(\u001b[0m\u001b[0mhandle\u001b[0m \u001b[0;32mand\u001b[0m \u001b[0mfeed_dict_tensor\u001b[0m\u001b[0;34m)\u001b[0m\u001b[0;34m:\u001b[0m\u001b[0;34m\u001b[0m\u001b[0m\n\u001b[1;32m   1119\u001b[0m       results = self._do_run(handle, final_targets, final_fetches,\n\u001b[0;32m-> 1120\u001b[0;31m                              feed_dict_tensor, options, run_metadata)\n\u001b[0m\u001b[1;32m   1121\u001b[0m     \u001b[0;32melse\u001b[0m\u001b[0;34m:\u001b[0m\u001b[0;34m\u001b[0m\u001b[0m\n\u001b[1;32m   1122\u001b[0m       \u001b[0mresults\u001b[0m \u001b[0;34m=\u001b[0m \u001b[0;34m[\u001b[0m\u001b[0;34m]\u001b[0m\u001b[0;34m\u001b[0m\u001b[0m\n",
      "\u001b[0;32m/home/csci4850/lib/python3.5/site-packages/tensorflow/python/client/session.py\u001b[0m in \u001b[0;36m_do_run\u001b[0;34m(self, handle, target_list, fetch_list, feed_dict, options, run_metadata)\u001b[0m\n\u001b[1;32m   1315\u001b[0m     \u001b[0;32mif\u001b[0m \u001b[0mhandle\u001b[0m \u001b[0;32mis\u001b[0m \u001b[0;32mNone\u001b[0m\u001b[0;34m:\u001b[0m\u001b[0;34m\u001b[0m\u001b[0m\n\u001b[1;32m   1316\u001b[0m       return self._do_call(_run_fn, self._session, feeds, fetches, targets,\n\u001b[0;32m-> 1317\u001b[0;31m                            options, run_metadata)\n\u001b[0m\u001b[1;32m   1318\u001b[0m     \u001b[0;32melse\u001b[0m\u001b[0;34m:\u001b[0m\u001b[0;34m\u001b[0m\u001b[0m\n\u001b[1;32m   1319\u001b[0m       \u001b[0;32mreturn\u001b[0m \u001b[0mself\u001b[0m\u001b[0;34m.\u001b[0m\u001b[0m_do_call\u001b[0m\u001b[0;34m(\u001b[0m\u001b[0m_prun_fn\u001b[0m\u001b[0;34m,\u001b[0m \u001b[0mself\u001b[0m\u001b[0;34m.\u001b[0m\u001b[0m_session\u001b[0m\u001b[0;34m,\u001b[0m \u001b[0mhandle\u001b[0m\u001b[0;34m,\u001b[0m \u001b[0mfeeds\u001b[0m\u001b[0;34m,\u001b[0m \u001b[0mfetches\u001b[0m\u001b[0;34m)\u001b[0m\u001b[0;34m\u001b[0m\u001b[0m\n",
      "\u001b[0;32m/home/csci4850/lib/python3.5/site-packages/tensorflow/python/client/session.py\u001b[0m in \u001b[0;36m_do_call\u001b[0;34m(self, fn, *args)\u001b[0m\n\u001b[1;32m   1321\u001b[0m   \u001b[0;32mdef\u001b[0m \u001b[0m_do_call\u001b[0m\u001b[0;34m(\u001b[0m\u001b[0mself\u001b[0m\u001b[0;34m,\u001b[0m \u001b[0mfn\u001b[0m\u001b[0;34m,\u001b[0m \u001b[0;34m*\u001b[0m\u001b[0margs\u001b[0m\u001b[0;34m)\u001b[0m\u001b[0;34m:\u001b[0m\u001b[0;34m\u001b[0m\u001b[0m\n\u001b[1;32m   1322\u001b[0m     \u001b[0;32mtry\u001b[0m\u001b[0;34m:\u001b[0m\u001b[0;34m\u001b[0m\u001b[0m\n\u001b[0;32m-> 1323\u001b[0;31m       \u001b[0;32mreturn\u001b[0m \u001b[0mfn\u001b[0m\u001b[0;34m(\u001b[0m\u001b[0;34m*\u001b[0m\u001b[0margs\u001b[0m\u001b[0;34m)\u001b[0m\u001b[0;34m\u001b[0m\u001b[0m\n\u001b[0m\u001b[1;32m   1324\u001b[0m     \u001b[0;32mexcept\u001b[0m \u001b[0merrors\u001b[0m\u001b[0;34m.\u001b[0m\u001b[0mOpError\u001b[0m \u001b[0;32mas\u001b[0m \u001b[0me\u001b[0m\u001b[0;34m:\u001b[0m\u001b[0;34m\u001b[0m\u001b[0m\n\u001b[1;32m   1325\u001b[0m       \u001b[0mmessage\u001b[0m \u001b[0;34m=\u001b[0m \u001b[0mcompat\u001b[0m\u001b[0;34m.\u001b[0m\u001b[0mas_text\u001b[0m\u001b[0;34m(\u001b[0m\u001b[0me\u001b[0m\u001b[0;34m.\u001b[0m\u001b[0mmessage\u001b[0m\u001b[0;34m)\u001b[0m\u001b[0;34m\u001b[0m\u001b[0m\n",
      "\u001b[0;32m/home/csci4850/lib/python3.5/site-packages/tensorflow/python/client/session.py\u001b[0m in \u001b[0;36m_run_fn\u001b[0;34m(session, feed_dict, fetch_list, target_list, options, run_metadata)\u001b[0m\n\u001b[1;32m   1300\u001b[0m           return tf_session.TF_Run(session, options,\n\u001b[1;32m   1301\u001b[0m                                    \u001b[0mfeed_dict\u001b[0m\u001b[0;34m,\u001b[0m \u001b[0mfetch_list\u001b[0m\u001b[0;34m,\u001b[0m \u001b[0mtarget_list\u001b[0m\u001b[0;34m,\u001b[0m\u001b[0;34m\u001b[0m\u001b[0m\n\u001b[0;32m-> 1302\u001b[0;31m                                    status, run_metadata)\n\u001b[0m\u001b[1;32m   1303\u001b[0m \u001b[0;34m\u001b[0m\u001b[0m\n\u001b[1;32m   1304\u001b[0m     \u001b[0;32mdef\u001b[0m \u001b[0m_prun_fn\u001b[0m\u001b[0;34m(\u001b[0m\u001b[0msession\u001b[0m\u001b[0;34m,\u001b[0m \u001b[0mhandle\u001b[0m\u001b[0;34m,\u001b[0m \u001b[0mfeed_dict\u001b[0m\u001b[0;34m,\u001b[0m \u001b[0mfetch_list\u001b[0m\u001b[0;34m)\u001b[0m\u001b[0;34m:\u001b[0m\u001b[0;34m\u001b[0m\u001b[0m\n",
      "\u001b[0;31mKeyboardInterrupt\u001b[0m: "
     ]
    }
   ],
   "source": [
    "#y_train = np.zeros(1)\n",
    "#y_train[0] = 1\n",
    "y_training = np.array(y_training)\n",
    "#y_train = np.array([y_train])\n",
    "#print(y_training)\n",
    "#newArray = np.array([newArray])\n",
    "#y_training = y_training.reshape((1,) + y_training.shape)\n",
    "#newArray = np.array([newArray])\n",
    "'''\n",
    "print('X_TRAINING ARRAY')\n",
    "print()\n",
    "print(x_training.shape)\n",
    "print(x_training[0])\n",
    "\n",
    "print()\n",
    "print('Y_TRAINING ARRAY')\n",
    "print()\n",
    "print(y_training.shape)\n",
    "print(y_training[0])\n",
    "'''\n",
    "batch_size = 20\n",
    "epochs = 1000\n",
    "history = model.fit(x_training, y_training,\n",
    "    batch_size=batch_size,\n",
    "    epochs=epochs,\n",
    "    verbose=1, #)\n",
    "    validation_split = 0.2)\n"
   ]
  },
  {
   "cell_type": "code",
   "execution_count": 1,
   "metadata": {},
   "outputs": [],
   "source": [
    "#score = model.evaluate(x_testing, y_testing, verbose=1)\n",
    "#print('Test loss:', score[0])\n",
    "#print('Test accuracy:', score[1])"
   ]
  },
  {
   "cell_type": "markdown",
   "metadata": {},
   "source": [
    "## Citations"
   ]
  },
  {
   "cell_type": "raw",
   "metadata": {},
   "source": []
  }
 ],
 "metadata": {
  "kernelspec": {
   "display_name": "Python 3",
   "language": "python",
   "name": "python3"
  },
  "language_info": {
   "codemirror_mode": {
    "name": "ipython",
    "version": 3
   },
   "file_extension": ".py",
   "mimetype": "text/x-python",
   "name": "python",
   "nbconvert_exporter": "python",
   "pygments_lexer": "ipython3",
   "version": "3.5.3"
  }
 },
 "nbformat": 4,
 "nbformat_minor": 2
}
