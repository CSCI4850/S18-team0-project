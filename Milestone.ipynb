{
 "cells": [
  {
   "cell_type": "markdown",
   "metadata": {},
   "source": [
    "### Milestone 1 Mar. 15\n",
    "\n"
   ]
  },
  {
   "cell_type": "markdown",
   "metadata": {},
   "source": [
    "Team 0 <br />\n",
    "Milestone 1 <br />\n",
    "Due: March 15 <br />\n",
    "Members: <br />\n",
    "Baer, Miles: Code <br />\n",
    "Boyer, Nathaniel: Presentation <br />\n",
    "Cope, Rex: Paper/Demo <br />\n",
    "Johnson, Charles: Paper/Demo <br />\n",
    "Smith, Robert: Code <br />\n",
    "\n",
    "\n",
    "| Deliverable | Percent Complete | Estimated Completion Date | Percent Complete by Next Milestone |\n",
    "| :--- | :---: | :---: | :-- |\n",
    "|Code         | 5% | May.1 | 30% |\n",
    "|Paper        | 0% | May.1 | 10% |  \n",
    "|Demo         | 0% | May.1 | 10% |\n",
    "|Presentation | 0% | May.1 | 10% |\n",
    "\n",
    "<br />\n",
    "<br />\n",
    "#### 1. What deliverable goals established in the last milestone report were accomplished to the anticipated percentage? <br />\n",
    "We have chosen a topic for the project and submitted the project proposal. Miles and Rob have started researching the methods needed to \n",
    "build the Neural Network.\n",
    "#### 2. What deliverable goals established in the last milestone report were not accomplished to the anticipated percentage? <br />\n",
    "N/A\n",
    "#### 3. What are the main deliverable goals to meet before the next milestone report, and who is working on them? <br />\n",
    "Rob/Miles: Finish research and data gathering. Start building Neural Network <br />\n",
    "Charles/Rex: Complete outline for Paper <br />\n",
    "John: Complete outline for presentation"
   ]
  },
  {
   "cell_type": "markdown",
   "metadata": {},
   "source": [
    "### Milestone 2 Mar. 29\n"
   ]
  },
  {
   "cell_type": "markdown",
   "metadata": {},
   "source": [
    "Team 0 <br />\n",
    "Milestone 2 <br />\n",
    "Due: March 29 <br />\n",
    "Members: <br />\n",
    "Baer, Miles: Code <br />\n",
    "Boyer, Nathaniel: Presentation <br />\n",
    "Cope, Rex: Paper/Demo <br />\n",
    "Johnson, Charles: Paper/Demo <br />\n",
    "Smith, Robert: Code <br />\n",
    "\n",
    "\n",
    "| Deliverable | Percent Complete | Estimated Completion Date | Percent Complete by Next Milestone |\n",
    "| :--- | :---: | :---: | :-- |\n",
    "|Code         | 30% | May.1 | 50% |\n",
    "|Paper        | 10% | Apr. 24 | 30% |  \n",
    "|Demo         | 0% | May. 3 | 10% |\n",
    "|Presentation | 10% | May. 3 | 20% |\n",
    "\n",
    "<br />\n",
    "<br />\n",
    "#### 1. What deliverable goals established in the last milestone report were accomplished to the anticipated percentage? <br />\n",
    "Rob and Miles have gathered enough data to build the network and start training it.\n",
    "Charles and Rex have completed the outline except the results section. \n",
    "John has completed the outline for the presentation.\n",
    "#### 2. What deliverable goals established in the last milestone report were not accomplished to the anticipated percentage? <br />\n",
    "N/a\n",
    "#### 3. What are the main deliverable goals to meet before the next milestone report, and who is working on them? <br />\n",
    "Rob/Miles: Start training and testing Neural Network <br />\n",
    "Charles/Rex: Complete first draft of introduction and background sections. Start the documentation for the demo <br />\n",
    "John: Complete design and first draft of presentation."
   ]
  },
  {
   "cell_type": "markdown",
   "metadata": {},
   "source": [
    "### Milestone 3 Apr. 12\n"
   ]
  },
  {
   "cell_type": "markdown",
   "metadata": {},
   "source": [
    "Team 0 <br />\n",
    "Milestone 3 <br />\n",
    "Due: April 12 <br />\n",
    "Members: <br />\n",
    "Baer, Miles: Code <br />\n",
    "Boyer, Nathaniel: Presentation <br />\n",
    "Cope, Rex: Paper/Demo <br />\n",
    "Johnson, Charles: Paper/Demo <br />\n",
    "Smith, Robert: Code <br />\n",
    "\n",
    "\n",
    "| Deliverable | Percent Complete | Estimated Completion Date | Percent Complete by Next Milestone |\n",
    "| :--- | :---: | :---: | :-- |\n",
    "|Code         | 100% | May.1 | 100% |\n",
    "|Paper        | 30% | Apr. 24 | 100% |  \n",
    "|Demo         | 10% | May. 3 | 25% |\n",
    "|Presentation | 20% | May. 3 | 30% |\n",
    "\n",
    "<br />\n",
    "<br />\n",
    "#### 1. What deliverable goals established in the last milestone report were accomplished to the anticipated percentage? <br />\n",
    "Rob and Miles have completed the code and have started training the network.\n",
    "Charles and Rex have started the paper and documentation for the demo. \n",
    "John has designed the first draft of presentation.\n",
    "#### 2. What deliverable goals established in the last milestone report were not accomplished to the anticipated percentage? <br />\n",
    "N/a\n",
    "#### 3. What are the main deliverable goals to meet before the next milestone report, and who is working on them? <br />\n",
    "Rob/Miles: Continue training and testing Neural Network <br />\n",
    "Charles/Rex: Complete paper.<br />\n",
    "John: Continue work on the presentation."
   ]
  },
  {
   "cell_type": "markdown",
   "metadata": {},
   "source": [
    "### Milestone 4 Apr. 26"
   ]
  },
  {
   "cell_type": "markdown",
   "metadata": {},
   "source": [
    "Team 0 <br />\n",
    "Milestone 4 <br />\n",
    "Due: April 26 <br />\n",
    "Members: <br />\n",
    "Baer, Miles: Code/Paper/Presentation/Demo <br />\n",
    "Boyer, Nathaniel: Presentation <br />\n",
    "Cope, Rex: Presentation/Demo <br />\n",
    "Johnson, Charles: Presentation/Demo <br />\n",
    "Smith, Robert: Code/Paper/Presentation/Demo <br />\n",
    "\n",
    "\n",
    "| Deliverable | Percent Complete | Estimated Completion Date | Percent Complete by Next Milestone |\n",
    "| :--- | :---: | :---: | :-- |\n",
    "|Code         | 100% | May.1 | 100% |\n",
    "|Paper        | 30% | Apr. 24 | 100% |  \n",
    "|Demo         | 10% | May. 3 | 100% |\n",
    "|Presentation | 65% | May. 3 | 100% |\n",
    "\n",
    "<br />\n",
    "<br />\n",
    "#### 1. What deliverable goals established in the last milestone report were accomplished to the anticipated percentage? <br />\n",
    "Rob and Miles have completed the code and have finished training the network, but will be trying new methods and networks before the demo. <br />\n",
    "Rob and Miles started and finished the paper. <br />\n",
    "Rex started documentation for the demo. <br />\n",
    "Rob has been cleaning up our scripts and compiling instructions for use for the demo <br />\n",
    "Miles has designed the first draft of presentation, just need to add results and make it look nicer. (Based on files in GitHub at the moment of submission) <br />\n",
    "#### 2. What deliverable goals established in the last milestone report were not accomplished to the anticipated percentage? <br />\n",
    "N/a\n",
    "#### 3. What are the main deliverable goals to meet before the next milestone report, and who is working on them? <br />\n",
    "Rob/Miles/Rex/Charles/John: Finish the presentation and the demo <br />"
   ]
  },
  {
   "cell_type": "code",
   "execution_count": null,
   "metadata": {},
   "outputs": [],
   "source": []
  }
 ],
 "metadata": {
  "kernelspec": {
   "display_name": "Python 3",
   "language": "python",
   "name": "python3"
  },
  "language_info": {
   "codemirror_mode": {
    "name": "ipython",
    "version": 3
   },
   "file_extension": ".py",
   "mimetype": "text/x-python",
   "name": "python",
   "nbconvert_exporter": "python",
   "pygments_lexer": "ipython3",
   "version": "3.5.3"
  }
 },
 "nbformat": 4,
 "nbformat_minor": 2
}
