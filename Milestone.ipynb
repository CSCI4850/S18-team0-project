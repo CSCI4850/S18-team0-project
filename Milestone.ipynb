{
 "cells": [
  {
   "cell_type": "markdown",
   "metadata": {},
   "source": [
    "Team 0 <br />\n",
    "Milestone 1 <br />\n",
    "Due: March 15 <br />\n",
    "Memebers: <br />\n",
    "Baer, Miles : Code <br />\n",
    "Boyer, Nathaniel: Presentation <br />\n",
    "Cope, William: Paper/Demo <br />\n",
    "Johnson, Charles: Paper/Demo <br />\n",
    "Smith, Robert: Code <br />\n",
    "\n",
    "\n",
    "| Deliverable | Percent Complete | Estimated Completion Date | Percent Complete by Next Milestone |\n",
    "| :--- | :--- | :--- | :-- |\n",
    "|Code         | 5% | May.1 | 30% |\n",
    "|Paper        | 0% | May.1 | 10% |  \n",
    "|Demo         | 0% | May.1 | 10% |\n",
    "|Presentation | 0% | May.1 | 10% |\n",
    "\n",
    "<br />\n",
    "<br />\n",
    "#### 1. What deliverable goals established in the last milestone report were accomplished to the anticipated percentage? <br />\n",
    "We have chosen a topic for the project and submitted the project proposal. Miles and Rob have started researching the methods needed to \n",
    "build the Neural Network.\n",
    "#### 2. What deliverable goals established in the last milestone report were were not accomplished to the anticipated percentage? <br />\n",
    "N/A\n",
    "#### 3. What are the main deliverable goals to meet before the next milestone report, and who is working on them? <br />\n",
    "Rob/Miles: Finish research and data gathering. Start building Nueral Network <br />\n",
    "Charles/William: Complete outline for Paper <br />\n",
    "John: Complete outline for presentation"
   ]
  },
  {
   "cell_type": "code",
   "execution_count": null,
   "metadata": {},
   "outputs": [],
   "source": []
  }
 ],
 "metadata": {
  "kernelspec": {
   "display_name": "Python 3",
   "language": "python",
   "name": "python3"
  },
  "language_info": {
   "codemirror_mode": {
    "name": "ipython",
    "version": 3
   },
   "file_extension": ".py",
   "mimetype": "text/x-python",
   "name": "python",
   "nbconvert_exporter": "python",
   "pygments_lexer": "ipython3",
   "version": "3.5.3"
  }
 },
 "nbformat": 4,
 "nbformat_minor": 2
}
