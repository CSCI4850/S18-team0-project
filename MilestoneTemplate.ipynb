{
 "cells": [
  {
   "cell_type": "markdown",
   "metadata": {},
   "source": [
    "Team 0 <br />\n",
    "Milestone 1 <br />\n",
    "Due: March 15 <br />\n",
    "Memebers: <br />\n",
    "Baer, Miles <br />\n",
    "Boyer, Nathaniel <br />\n",
    "Cope, William <br />\n",
    "Johnson, Charles <br />\n",
    "Smith, Robert <br />\n",
    "\n",
    "\n",
    "| Deliverable | Percent Complete | Estimated Completion Date | Percent Complete by Next Milestone |\n",
    "| :--- | :--- | :--- | :-- |\n",
    "|Code         | 0% | May.1 | 0% |\n",
    "|Paper        | 0% | May.1 | 0% |  \n",
    "|Demo         | 0% | May.1 | 0% |\n",
    "|Presentation | 0% | May.1 | 0% |\n",
    "\n",
    "<br />\n",
    "<br />\n",
    "#### 1. What deliverable goals established in the last milestone report were accomplished to the anticipated percentage? <br />\n",
    "#### 2. What deliverable goals established in the last milestone report were were not accomplished to the anticipated percentage? <br />\n",
    "#### 3. What are the main deliverable goals to meet before the next milestone report, and who is working on them? <br />\n"
   ]
  }
 ],
 "metadata": {
  "kernelspec": {
   "display_name": "Python 3",
   "language": "python",
   "name": "python3"
  },
  "language_info": {
   "codemirror_mode": {
    "name": "ipython",
    "version": 3
   },
   "file_extension": ".py",
   "mimetype": "text/x-python",
   "name": "python",
   "nbconvert_exporter": "python",
   "pygments_lexer": "ipython3",
   "version": "3.5.3"
  }
 },
 "nbformat": 4,
 "nbformat_minor": 2
}
