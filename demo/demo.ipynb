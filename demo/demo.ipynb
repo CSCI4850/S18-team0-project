{
 "cells": [
  {
   "cell_type": "markdown",
   "metadata": {},
   "source": [
    "## Introduction"
   ]
  },
  {
   "cell_type": "markdown",
   "metadata": {},
   "source": [
    "Our project deals with document authorship. It is specifically curated to small documents, \n",
    "such as reviews, emails, texts, and other similar media. Larger documents are easier to \n",
    "classify because of the amount of text that lay within these documents. Smaller text \n",
    "requires a certain finesse and does not classify easily. Neural networks, by nature, \n",
    "are adept at learning sophisticated patterns unseen by human perception. We would like \n",
    "to use them in such a way to better determine authorship of these documents. Using Doc2Vec\n",
    "and our own custom encoding, we hope to be able produce good accuracies when determining\n",
    "who wrote an individual small document. Our own method uses Word2Vec vectors and sums them\n",
    "all up. Primarily, three neural networks are used and they are small in size. For training and testing,\n",
    "we normally set the number of authors to either 3 or 35. Our results show overfitting and typically are not\n",
    "very high in accuracy. The highest we have acheived was 83% on our small dense network, but we could not\n",
    "replicate it. The results will show training accuracy and loss and also tesing accuracy and loss."
   ]
  },
  {
   "cell_type": "markdown",
   "metadata": {},
   "source": [
    "## Preprocessing"
   ]
  },
  {
   "cell_type": "markdown",
   "metadata": {},
   "source": [
    "Our data originates from plain text files in this format:\n",
    "\n",
    "    authorID [tab] review_text\n",
    "\n",
    "![Example RAW Data Format](format_example.PNG)\n",
    "\n",
    "Using some of our scripts, you can easily convert any document with the afore mentioned format\n",
    "to be encoded in two different ways:\n",
    "\n",
    "    1. Our Custom Encoding\n",
    "    2. Doc2Vec Encoding\n",
    "    \n",
    "For our custom encoding, the script can be run as follows:\n",
    "    \n",
    "    ./customDoc2Vec.py [input filename] [output filename]\n",
    "    \n",
    "For the Doc2Vec encoding:\n",
    "\n",
    "    ./spacyDoc2Vec.py [input filename] [output filename]\n",
    "\n",
    "The format of the resulting encoding is as follows:\n",
    "\n",
    "    authorID [tab] word_vector\n",
    "\n",
    "You can also reverse the sentences in a text corpus by running (it will output the same filename with 'r_' in front):\n",
    "\n",
    "    ./reverseText.py [filename] \n",
    "    \n",
    "These methods above use pretrained word vector models; to create your own you can do the following:\n",
    "\n",
    "    ./gensimDoc2Vec.py [input filename] [output filename] [model name]"
   ]
  },
  {
   "cell_type": "markdown",
   "metadata": {},
   "source": [
    "## Setup"
   ]
  },
  {
   "cell_type": "code",
   "execution_count": 1,
   "metadata": {},
   "outputs": [
    {
     "name": "stderr",
     "output_type": "stream",
     "text": [
      "/home/csci4850/lib/python3.5/site-packages/h5py/__init__.py:36: FutureWarning: Conversion of the second argument of issubdtype from `float` to `np.floating` is deprecated. In future, it will be treated as `np.float64 == np.dtype(float).type`.\n",
      "  from ._conv import register_converters as _register_converters\n",
      "Using TensorFlow backend.\n"
     ]
    }
   ],
   "source": [
    "import keras\n",
    "import numpy as np\n",
    "import matplotlib.pyplot as plt\n",
    "%matplotlib inline\n",
    "from IPython.display import display\n",
    "from keras_tqdm import TQDMNotebookCallback\n",
    "import copy\n",
    "from keras import regularizers\n",
    "from sklearn.utils import shuffle"
   ]
  },
  {
   "cell_type": "markdown",
   "metadata": {},
   "source": [
    "## Reading Vector Data and One-Hot Creation"
   ]
  },
  {
   "cell_type": "code",
   "execution_count": 2,
   "metadata": {},
   "outputs": [],
   "source": [
    "# choose file here\n",
    "# options:\n",
    "#   1. c_encoded.txt\n",
    "#   2. c_encoded_r.txt\n",
    "#   3. g_encoded.txt\n",
    "#   4. g_encoded_r.txt\n",
    "#   5. s_encoded.txt\n",
    "#   6. s_encoded_r.txt\n",
    "\n",
    "filename = 's_encoded.txt'\n",
    "\n",
    "data = []                 # holds all data (i.e. encoded vectors)\n",
    "unique = {}               # holds unique author IDs here\n",
    "index = 0                 # used for determining which array inded will be 1 in the hot hot encoding\n",
    "y_train = []              # one hots are in here  \n",
    "author_reviews_count = 0\n",
    "authors = 3               # number of unique authors to read data from\n",
    "\n",
    "with open(filename) as file:\n",
    "    for line in file:\n",
    "        author = line.split('\\t')[0].rstrip('\\n')\n",
    "        r = line.split('\\t')[1].rstrip('\\n')[1:-1].split(',')\n",
    "        vector = [float(x.strip(',')) for x in r if x != '']\n",
    "        \n",
    "        if author not in unique:\n",
    "            if len(unique) == authors:\n",
    "                break\n",
    "            unique[author] = np.zeros(authors)\n",
    "            unique[author][index] = 1\n",
    "            index += 1\n",
    "\n",
    "        if len(vector) == 300:\n",
    "            data.append(vector)\n",
    "            y_train.append(unique[author])"
   ]
  },
  {
   "cell_type": "markdown",
   "metadata": {},
   "source": [
    "## Seperate Training/Test Sets"
   ]
  },
  {
   "cell_type": "code",
   "execution_count": 3,
   "metadata": {},
   "outputs": [],
   "source": [
    "x_tr = []\n",
    "y_tr = []\n",
    "x_te = []\n",
    "y_te = []\n",
    "\n",
    "cur = y_train[0]\n",
    "count = 0\n",
    "for i in range(len(data)):\n",
    "    if (y_train[i] == cur).all():\n",
    "        # training set\n",
    "        if count < 4:\n",
    "            x_tr.append(data[i])\n",
    "            y_tr.append(y_train[i])\n",
    "        # test set\n",
    "        else:\n",
    "            x_te.append(data[i])\n",
    "            y_te.append(y_train[i])\n",
    "\n",
    "    else:\n",
    "        cur = y_train[i]\n",
    "        count = 0\n",
    "        # training set\n",
    "        if count < 4:\n",
    "            x_tr.append(data[i])\n",
    "            y_tr.append(y_train[i])\n",
    "        # test set\n",
    "        else:\n",
    "            x_te.append(data[i])\n",
    "            y_te.append(y_train[i])\n",
    "    count += 1\n",
    "        "
   ]
  },
  {
   "cell_type": "markdown",
   "metadata": {},
   "source": [
    "## Oversampling Option"
   ]
  },
  {
   "cell_type": "code",
   "execution_count": 4,
   "metadata": {},
   "outputs": [
    {
     "name": "stdout",
     "output_type": "stream",
     "text": [
      "12\n",
      "12\n",
      "10\n",
      "10\n"
     ]
    }
   ],
   "source": [
    "'''\n",
    "x1 = copy.deepcopy(x_tr)\n",
    "y1 = copy.deepcopy(y_tr)\n",
    "for x in range(2):\n",
    "    for i in x1:\n",
    "        x_tr.append(i)\n",
    "    for i in y1:\n",
    "        y_tr.append(i)\n",
    "'''\n",
    "print(len(x_tr)) # x training set size\n",
    "print(len(y_tr)) # y training set size\n",
    "print(len(x_te)) # x testing set size\n",
    "print(len(y_te)) # y testing set size"
   ]
  },
  {
   "cell_type": "markdown",
   "metadata": {},
   "source": [
    "## Shuffle and Reshape"
   ]
  },
  {
   "cell_type": "code",
   "execution_count": 5,
   "metadata": {},
   "outputs": [
    {
     "name": "stdout",
     "output_type": "stream",
     "text": [
      "(12, 300)\n",
      "(12, 300, 1)\n",
      "X_training shape: (12, 300, 1)\n",
      "(12, 300, 1)\n",
      "(12, 3)\n",
      "X_testing shape: (10, 300, 1)\n",
      "(10, 300, 1)\n",
      "(10, 3)\n"
     ]
    }
   ],
   "source": [
    "x_training,y_training = shuffle(x_tr,y_tr, random_state=0) # shuffle training data\n",
    "# ========================================================\n",
    "x_training = np.array(x_tr)\n",
    "print(x_training.shape)\n",
    "# convert the 2d to 3d representation\n",
    "x_training = x_training.reshape(x_training.shape + (1,))\n",
    "print(x_training.shape)\n",
    "output_shape = x_training.shape[1]\n",
    "input_shape = x_training.shape[2]\n",
    "y_training = np.array(y_tr)\n",
    "print('X_training shape: ' + str(x_training.shape))\n",
    "# ========================================================\n",
    "print(x_training.shape)\n",
    "print(y_training.shape)\n",
    "x_te = np.array(x_te)\n",
    "# convert the 2d to 3d representation\n",
    "x_te = x_te.reshape(x_te.shape + (1,))\n",
    "print('X_testing shape: ' + str(x_te.shape))\n",
    "print(x_te.shape)\n",
    "y_te = np.array(y_te)\n",
    "print(y_te.shape)\n",
    "# ========================================================"
   ]
  },
  {
   "cell_type": "markdown",
   "metadata": {},
   "source": [
    "## Network 1"
   ]
  },
  {
   "cell_type": "code",
   "execution_count": 6,
   "metadata": {},
   "outputs": [
    {
     "name": "stdout",
     "output_type": "stream",
     "text": [
      "_________________________________________________________________\n",
      "Layer (type)                 Output Shape              Param #   \n",
      "=================================================================\n",
      "conv1d_1 (Conv1D)            (None, 298, 300)          1200      \n",
      "_________________________________________________________________\n",
      "max_pooling1d_1 (MaxPooling1 (None, 149, 300)          0         \n",
      "_________________________________________________________________\n",
      "flatten_1 (Flatten)          (None, 44700)             0         \n",
      "_________________________________________________________________\n",
      "dense_1 (Dense)              (None, 300)               13410300  \n",
      "_________________________________________________________________\n",
      "dense_2 (Dense)              (None, 3)                 903       \n",
      "=================================================================\n",
      "Total params: 13,412,403\n",
      "Trainable params: 13,412,403\n",
      "Non-trainable params: 0\n",
      "_________________________________________________________________\n"
     ]
    }
   ],
   "source": [
    "model_n1 = keras.Sequential()\n",
    "\n",
    "model_n1.add(keras.layers.Conv1D(300, kernel_size=(3),strides=(1),\n",
    "                 activation='relu',\n",
    "                 kernel_regularizer=regularizers.l2(0.01),\n",
    "                 activity_regularizer=regularizers.l1(0.01),\n",
    "                 input_shape=[output_shape,\n",
    "                              input_shape]))\n",
    "model_n1.add(keras.layers.MaxPooling1D())\n",
    "model_n1.add(keras.layers.Flatten())\n",
    "model_n1.add(keras.layers.Dense(300, activation='relu'))\n",
    "model_n1.add(keras.layers.Dense(y_training.shape[1], activation='softmax'))\n",
    "#sgd = keras.optimizers.SGD(lr=0.01, decay=1e-6, momentum=0.9, nesterov=True)\n",
    "model_n1.compile(loss=keras.losses.categorical_crossentropy,\n",
    "    #optimizer = sgd,\n",
    "    optimizer=keras.optimizers.Adam(),\n",
    "    metrics=['accuracy'])\n",
    "\n",
    "model_n1.summary()"
   ]
  },
  {
   "cell_type": "markdown",
   "metadata": {},
   "source": [
    "## Network 2"
   ]
  },
  {
   "cell_type": "code",
   "execution_count": 7,
   "metadata": {},
   "outputs": [
    {
     "name": "stdout",
     "output_type": "stream",
     "text": [
      "_________________________________________________________________\n",
      "Layer (type)                 Output Shape              Param #   \n",
      "=================================================================\n",
      "conv1d_2 (Conv1D)            (None, 298, 300)          1200      \n",
      "_________________________________________________________________\n",
      "max_pooling1d_2 (MaxPooling1 (None, 149, 300)          0         \n",
      "_________________________________________________________________\n",
      "flatten_2 (Flatten)          (None, 44700)             0         \n",
      "_________________________________________________________________\n",
      "dense_3 (Dense)              (None, 300)               13410300  \n",
      "_________________________________________________________________\n",
      "dense_4 (Dense)              (None, 3)                 903       \n",
      "=================================================================\n",
      "Total params: 13,412,403\n",
      "Trainable params: 13,412,403\n",
      "Non-trainable params: 0\n",
      "_________________________________________________________________\n"
     ]
    }
   ],
   "source": [
    "model_n2 = keras.Sequential()\n",
    "\n",
    "model_n2.add(keras.layers.Conv1D(300, kernel_size=(3),strides=(1),\n",
    "                 activation='relu',\n",
    "                 input_shape=[output_shape,\n",
    "                              input_shape]))\n",
    "model_n2.add(keras.layers.MaxPooling1D())\n",
    "model_n2.add(keras.layers.Flatten())\n",
    "model_n2.add(keras.layers.Dense(300, activation='relu'))\n",
    "model_n2.add(keras.layers.Dense(y_training.shape[1], activation='softmax'))\n",
    "#sgd = keras.optimizers.SGD(lr=0.01, decay=1e-6, momentum=0.9, nesterov=True)\n",
    "model_n2.compile(loss=keras.losses.categorical_crossentropy,\n",
    "    #optimizer = sgd,\n",
    "    optimizer=keras.optimizers.Adam(),\n",
    "    metrics=['accuracy'])\n",
    "\n",
    "model_n2.summary()"
   ]
  },
  {
   "cell_type": "markdown",
   "metadata": {},
   "source": [
    "## Network 3"
   ]
  },
  {
   "cell_type": "code",
   "execution_count": 8,
   "metadata": {},
   "outputs": [
    {
     "name": "stdout",
     "output_type": "stream",
     "text": [
      "_________________________________________________________________\n",
      "Layer (type)                 Output Shape              Param #   \n",
      "=================================================================\n",
      "dense_5 (Dense)              (None, 300, 300)          600       \n",
      "_________________________________________________________________\n",
      "flatten_3 (Flatten)          (None, 90000)             0         \n",
      "_________________________________________________________________\n",
      "dense_6 (Dense)              (None, 3)                 270003    \n",
      "=================================================================\n",
      "Total params: 270,603\n",
      "Trainable params: 270,603\n",
      "Non-trainable params: 0\n",
      "_________________________________________________________________\n"
     ]
    }
   ],
   "source": [
    "model_n3 = keras.Sequential()\n",
    "\n",
    "model_n3.add(keras.layers.Dense(300,\n",
    "                             activation='relu',\n",
    "                             input_shape=[output_shape,input_shape]))\n",
    "model_n3.add(keras.layers.Flatten())\n",
    "model_n3.add(keras.layers.Dense(y_training.shape[1], activation='softmax'))\n",
    "#sgd = keras.optimizers.SGD(lr=0.01, decay=1e-6, momentum=0.9, nesterov=True)\n",
    "model_n3.compile(loss=keras.losses.categorical_crossentropy,\n",
    "    #optimizer = sgd,\n",
    "    optimizer=keras.optimizers.Adam(),\n",
    "    metrics=['accuracy'])\n",
    "\n",
    "model_n3.summary()"
   ]
  },
  {
   "cell_type": "markdown",
   "metadata": {},
   "source": [
    "## Training"
   ]
  },
  {
   "cell_type": "code",
   "execution_count": 9,
   "metadata": {},
   "outputs": [
    {
     "data": {
      "application/vnd.jupyter.widget-view+json": {
       "model_id": "e692d6dcb0a141c5bcae942494b93258",
       "version_major": 2,
       "version_minor": 0
      },
      "text/html": [
       "<p>Failed to display Jupyter Widget of type <code>HBox</code>.</p>\n",
       "<p>\n",
       "  If you're reading this message in the Jupyter Notebook or JupyterLab Notebook, it may mean\n",
       "  that the widgets JavaScript is still loading. If this message persists, it\n",
       "  likely means that the widgets JavaScript library is either not installed or\n",
       "  not enabled. See the <a href=\"https://ipywidgets.readthedocs.io/en/stable/user_install.html\">Jupyter\n",
       "  Widgets Documentation</a> for setup instructions.\n",
       "</p>\n",
       "<p>\n",
       "  If you're reading this message in another frontend (for example, a static\n",
       "  rendering on GitHub or <a href=\"https://nbviewer.jupyter.org/\">NBViewer</a>),\n",
       "  it may mean that your frontend doesn't currently support widgets.\n",
       "</p>\n"
      ],
      "text/plain": [
       "HBox(children=(IntProgress(value=0, description='Training', max=5), HTML(value='')))"
      ]
     },
     "metadata": {},
     "output_type": "display_data"
    },
    {
     "data": {
      "application/vnd.jupyter.widget-view+json": {
       "model_id": "969b309b8b214803824668f7af57e24f",
       "version_major": 2,
       "version_minor": 0
      },
      "text/html": [
       "<p>Failed to display Jupyter Widget of type <code>HBox</code>.</p>\n",
       "<p>\n",
       "  If you're reading this message in the Jupyter Notebook or JupyterLab Notebook, it may mean\n",
       "  that the widgets JavaScript is still loading. If this message persists, it\n",
       "  likely means that the widgets JavaScript library is either not installed or\n",
       "  not enabled. See the <a href=\"https://ipywidgets.readthedocs.io/en/stable/user_install.html\">Jupyter\n",
       "  Widgets Documentation</a> for setup instructions.\n",
       "</p>\n",
       "<p>\n",
       "  If you're reading this message in another frontend (for example, a static\n",
       "  rendering on GitHub or <a href=\"https://nbviewer.jupyter.org/\">NBViewer</a>),\n",
       "  it may mean that your frontend doesn't currently support widgets.\n",
       "</p>\n"
      ],
      "text/plain": [
       "HBox(children=(IntProgress(value=0, description='Epoch 0', max=9), HTML(value='')))"
      ]
     },
     "metadata": {},
     "output_type": "display_data"
    },
    {
     "name": "stdout",
     "output_type": "stream",
     "text": [
      "\n"
     ]
    }
   ],
   "source": [
    "# choose model here ...\n",
    "current_model = model_n2\n",
    "\n",
    "batch_size = 5\n",
    "epochs = 5\n",
    "history = current_model.fit(x_training, y_training,\n",
    "    batch_size=batch_size,\n",
    "    epochs=epochs,\n",
    "    verbose=0,\n",
    "    shuffle=True,\n",
    "    callbacks=[TQDMNotebookCallback()],\n",
    "    validation_split = 0.2)"
   ]
  },
  {
   "cell_type": "markdown",
   "metadata": {},
   "source": [
    "## Testing"
   ]
  },
  {
   "cell_type": "code",
   "execution_count": 10,
   "metadata": {},
   "outputs": [
    {
     "name": "stdout",
     "output_type": "stream",
     "text": [
      "10/10 [==============================] - 0s 7ms/step\n",
      "Test loss: 12.894475936889648\n",
      "Test accuracy: 0.20000000298023224\n"
     ]
    }
   ],
   "source": [
    "score = current_model.evaluate(x_te, y_te, verbose=1)\n",
    "preds = current_model.predict_on_batch(x_training)\n",
    "print('Test loss:', score[0])\n",
    "print('Test accuracy:', score[1])"
   ]
  },
  {
   "cell_type": "markdown",
   "metadata": {},
   "source": [
    "## Graphing"
   ]
  },
  {
   "cell_type": "code",
   "execution_count": 11,
   "metadata": {},
   "outputs": [
    {
     "name": "stdout",
     "output_type": "stream",
     "text": [
      "10/10 [==============================] - 0s 27ms/step\n",
      "Test loss: 6.447237968444824\n",
      "Test accuracy: 0.6000000238418579\n"
     ]
    },
    {
     "data": {
      "image/png": "[encoded data removed]",
      "text/plain": [
       "<matplotlib.figure.Figure at 0x7fee745ae6a0>"
      ]
     },
     "metadata": {},
     "output_type": "display_data"
    }
   ],
   "source": [
    "score = current_model.evaluate(x_te, y_te, verbose=1)\n",
    "preds = current_model.predict_on_batch(x_te)\n",
    "print('Test loss:', score[0])\n",
    "print('Test accuracy:', score[1])\n",
    "\n",
    "plt.subplot(211)\n",
    "plt.plot(history.history['acc'])\n",
    "plt.plot(history.history['val_acc'])\n",
    "plt.title('model accuracy')\n",
    "plt.ylabel('accuracy')\n",
    "plt.xlabel('epoch')\n",
    "plt.legend(['train', 'test'], loc='upper left')\n",
    "# summarize history for loss\n",
    "plt.subplot(212)\n",
    "plt.plot(history.history['loss'])\n",
    "plt.plot(history.history['val_loss'])\n",
    "plt.title('model loss')\n",
    "plt.ylabel('loss')\n",
    "plt.xlabel('epoch')\n",
    "plt.legend(['train', 'test'], loc='upper left')\n",
    "plt.tight_layout()\n",
    "plt.show()"
   ]
  },
  {
   "cell_type": "markdown",
   "metadata": {},
   "source": [
    "## Predictions"
   ]
  },
  {
   "cell_type": "code",
   "execution_count": 12,
   "metadata": {},
   "outputs": [
    {
     "name": "stdout",
     "output_type": "stream",
     "text": [
      "[0. 1. 0.] 1 [1. 0. 0.] Guessed: AA7C90J3I44Q9 Actual: AA5KIZVGT7IOV Incorrect\n",
      "[0. 1. 0.] 1 [1. 0. 0.] Guessed: AA7C90J3I44Q9 Actual: AA5KIZVGT7IOV Incorrect\n",
      "[0. 1. 0.] 1 [0. 1. 0.] Guessed: AA7C90J3I44Q9 Actual: AA7C90J3I44Q9 Correct\n",
      "[0. 1. 0.] 1 [0. 1. 0.] Guessed: AA7C90J3I44Q9 Actual: AA7C90J3I44Q9 Correct\n",
      "[0. 1. 0.] 1 [0. 1. 0.] Guessed: AA7C90J3I44Q9 Actual: AA7C90J3I44Q9 Correct\n",
      "[0. 1. 0.] 1 [0. 1. 0.] Guessed: AA7C90J3I44Q9 Actual: AA7C90J3I44Q9 Correct\n",
      "[0. 1. 0.] 1 [0. 1. 0.] Guessed: AA7C90J3I44Q9 Actual: AA7C90J3I44Q9 Correct\n",
      "[0. 1. 0.] 1 [0. 1. 0.] Guessed: AA7C90J3I44Q9 Actual: AA7C90J3I44Q9 Correct\n",
      "[0. 1. 0.] 1 [0. 0. 1.] Guessed: AA7C90J3I44Q9 Actual: AA7P2NEC94K79 Incorrect\n",
      "[0. 1. 0.] 1 [0. 0. 1.] Guessed: AA7C90J3I44Q9 Actual: AA7P2NEC94K79 Incorrect\n",
      "Correct: 6 Incorrect: 4 Out of: 10\n"
     ]
    }
   ],
   "source": [
    "def get_auth(l):\n",
    "    #l = list(l)\n",
    "    for i in unique:\n",
    "        if (unique[i] == l).all():\n",
    "            return i\n",
    "\n",
    "\n",
    "index = 0\n",
    "incorrect = 0\n",
    "correct = 0\n",
    "for i in range(len(preds)):\n",
    "    m = max(preds[i])\n",
    "    index = list(preds[i]).index(m)\n",
    "    l = np.zeros(authors)\n",
    "    l[index] = 1\n",
    "\n",
    "    print(preds[i],index,y_te[i],'Guessed:',get_auth(l),'Actual:',get_auth(y_te[i]),end=' ')\n",
    "    if y_te[i][index] == 1:\n",
    "        print('Correct')\n",
    "        correct += 1\n",
    "    else:\n",
    "        print('Incorrect')\n",
    "        incorrect += 1\n",
    "\n",
    "print('Correct:',correct,'Incorrect:',incorrect,'Out of:',(correct+incorrect))"
   ]
  },
  {
   "cell_type": "code",
   "execution_count": null,
   "metadata": {},
   "outputs": [],
   "source": []
  }
 ],
 "metadata": {
  "kernelspec": {
   "display_name": "Python 3",
   "language": "python",
   "name": "python3"
  },
  "language_info": {
   "codemirror_mode": {
    "name": "ipython",
    "version": 3
   },
   "file_extension": ".py",
   "mimetype": "text/x-python",
   "name": "python",
   "nbconvert_exporter": "python",
   "pygments_lexer": "ipython3",
   "version": "3.5.3"
  }
 },
 "nbformat": 4,
 "nbformat_minor": 2
}
