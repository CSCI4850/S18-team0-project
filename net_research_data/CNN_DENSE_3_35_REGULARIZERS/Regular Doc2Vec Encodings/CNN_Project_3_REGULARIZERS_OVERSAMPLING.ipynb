{
 "cells": [
  {
   "cell_type": "code",
   "execution_count": 352,
   "metadata": {},
   "outputs": [],
   "source": [
    "import keras\n",
    "import numpy as np\n",
    "import matplotlib.pyplot as plt\n",
    "%matplotlib inline\n",
    "from IPython.display import display\n",
    "from keras_tqdm import TQDMNotebookCallback\n",
    "import copy\n",
    "from keras import regularizers"
   ]
  },
  {
   "cell_type": "code",
   "execution_count": 475,
   "metadata": {},
   "outputs": [],
   "source": [
    "data = []\n",
    "unique = {}\n",
    "index = 0\n",
    "y_train = [] # one hots are in here\n",
    "sizes = []\n",
    "author_reviews_count = 0\n",
    "authors = 3\n",
    "#same_author = True\n",
    "# officeData has 4905 unique authors\n",
    "with open('officeDataEncoded.txt') as file:\n",
    "    for line in file:\n",
    "        author = line.split('\\t')[0].rstrip('\\n')\n",
    "        r = line.split('\\t')[1].rstrip('\\n')[1:-1].split(',')\n",
    "\n",
    "        vector = [float(x.strip(',')) for x in r if x != '']\n",
    "        sizes.append(len(vector))\n",
    "        \n",
    "        if author not in unique:\n",
    "            if len(unique) == authors:\n",
    "                break\n",
    "            unique[author] = np.zeros(authors)\n",
    "            unique[author][index] = 1\n",
    "            index += 1\n",
    "            #same_author = False\n",
    "        if len(vector) == 300:\n",
    "            data.append(vector)\n",
    "            y_train.append(unique[author])\n",
    "            \n",
    "\n",
    "\n",
    "#data = data"
   ]
  },
  {
   "cell_type": "code",
   "execution_count": 476,
   "metadata": {},
   "outputs": [],
   "source": [
    "x_tr = []\n",
    "y_tr = []\n",
    "x_te = []\n",
    "y_te = []\n",
    "#print(data[0])\n",
    "#print(y_train[0])\n",
    "cur = y_train[0]\n",
    "count = 0\n",
    "for i in range(len(data)):\n",
    "    if (y_train[i] == cur).all():\n",
    "        # training set\n",
    "        if count < 4:\n",
    "            x_tr.append(data[i])\n",
    "            y_tr.append(y_train[i])\n",
    "        # test set\n",
    "        else:\n",
    "            x_te.append(data[i])\n",
    "            y_te.append(y_train[i])\n",
    "\n",
    "    else:\n",
    "        #print('HEY')\n",
    "        cur = y_train[i]\n",
    "        count = 0\n",
    "        # training set\n",
    "        if count < 4:\n",
    "            x_tr.append(data[i])\n",
    "            y_tr.append(y_train[i])\n",
    "        # test set\n",
    "        else:\n",
    "            x_te.append(data[i])\n",
    "            y_te.append(y_train[i])\n",
    "    count += 1\n",
    "        "
   ]
  },
  {
   "cell_type": "code",
   "execution_count": 477,
   "metadata": {},
   "outputs": [
    {
     "name": "stdout",
     "output_type": "stream",
     "text": [
      "36\n",
      "36\n",
      "16\n",
      "16\n"
     ]
    },
    {
     "data": {
      "text/plain": [
       "\"\\nfor i in y_tr:\\n    print(i)\\nprint('*'*12)\\nfor i in y_te:\\n    print(i)\\n\""
      ]
     },
     "execution_count": 477,
     "metadata": {},
     "output_type": "execute_result"
    }
   ],
   "source": [
    "\n",
    "#print(y_tr[0:4])\n",
    "#print(y_te[5])\n",
    "x1 = copy.deepcopy(x_tr)\n",
    "y1 = copy.deepcopy(y_tr)\n",
    "for x in range(2):\n",
    "    for i in x1:\n",
    "        x_tr.append(i)\n",
    "    for i in y1:\n",
    "        y_tr.append(i)\n",
    "print(len(x_tr))\n",
    "print(len(y_tr))\n",
    "print(len(x_te))\n",
    "print(len(y_te))\n",
    "\n",
    "'''\n",
    "for i in y_tr:\n",
    "    print(i)\n",
    "print('*'*12)\n",
    "for i in y_te:\n",
    "    print(i)\n",
    "'''"
   ]
  },
  {
   "cell_type": "code",
   "execution_count": 478,
   "metadata": {},
   "outputs": [
    {
     "name": "stdout",
     "output_type": "stream",
     "text": [
      "(36, 300)\n",
      "(36, 300, 1)\n",
      "X_training shape: (36, 300, 1)\n"
     ]
    }
   ],
   "source": [
    "from sklearn.utils import shuffle\n",
    "x_training,y_training = shuffle(x_tr,y_tr, random_state=0)\n",
    "#x_test = x_training[:150]\n",
    "#y_test = y_training[:150]\n",
    "#x_training = x_training[150:]\n",
    "#y_training = y_training[150:]\n",
    "# =====================================================\n",
    "# =====================================================\n",
    "x_training = np.array(x_tr)\n",
    "print(x_training.shape)\n",
    "# convert the 2d to 3d representation\n",
    "x_training = x_training.reshape(x_training.shape + (1,))\n",
    "print(x_training.shape)\n",
    "output_shape = x_training.shape[1]\n",
    "input_shape = x_training.shape[2]\n",
    "y_training = np.array(y_tr)\n",
    "print('X_training shape: ' + str(x_training.shape))\n",
    "# =====================================================\n",
    "# ====================================================="
   ]
  },
  {
   "cell_type": "code",
   "execution_count": 479,
   "metadata": {},
   "outputs": [
    {
     "name": "stdout",
     "output_type": "stream",
     "text": [
      "_________________________________________________________________\n",
      "Layer (type)                 Output Shape              Param #   \n",
      "=================================================================\n",
      "conv1d_80 (Conv1D)           (None, 298, 300)          1200      \n",
      "_________________________________________________________________\n",
      "max_pooling1d_71 (MaxPooling (None, 149, 300)          0         \n",
      "_________________________________________________________________\n",
      "flatten_104 (Flatten)        (None, 44700)             0         \n",
      "_________________________________________________________________\n",
      "dense_211 (Dense)            (None, 3)                 134103    \n",
      "=================================================================\n",
      "Total params: 135,303\n",
      "Trainable params: 135,303\n",
      "Non-trainable params: 0\n",
      "_________________________________________________________________\n"
     ]
    }
   ],
   "source": [
    "## CURRENT MODEL\n",
    "model = keras.Sequential()\n",
    "\n",
    "model.add(keras.layers.Conv1D(300, kernel_size=(3),strides=(1),\n",
    "                 activation='relu',\n",
    "                 kernel_regularizer=regularizers.l2(0.01),\n",
    "                 activity_regularizer=regularizers.l1(0.01),\n",
    "                 input_shape=[output_shape,\n",
    "                              input_shape]))\n",
    "'''\n",
    "model.add(keras.layers.Dense(300,\n",
    "                             activation='relu',\n",
    "                             #kernel_regularizer=regularizers.l2(0.01),\n",
    "                             #activity_regularizer=regularizers.l1(0.01),\n",
    "                             input_shape=[output_shape,input_shape]))\n",
    "\n",
    "model.add(keras.layers.Conv1D(300, kernel_size=(3),\n",
    "                 activation='relu',\n",
    "                 #kernel_regularizer=regularizers.l2(0.01),\n",
    "                 #activity_regularizer=regularizers.l1(0.01),\n",
    "                 input_shape=[output_shape,\n",
    "                              input_shape]))\n",
    "\n",
    "model.add(keras.layers.Conv1D(300, kernel_size=(4),\n",
    "                 activation='relu',\n",
    "                 #kernel_regularizer=regularizers.l2(0.01),\n",
    "                 #activity_regularizer=regularizers.l1(0.01),\n",
    "                 input_shape=[output_shape,\n",
    "                              input_shape]))\n",
    "\n",
    "model.add(keras.layers.Conv1D(300, kernel_size=(5),\n",
    "                 activation='relu',\n",
    "                 #kernel_regularizer=regularizers.l2(0.01),\n",
    "                 #activity_regularizer=regularizers.l1(0.01),\n",
    "                 input_shape=[output_shape,\n",
    "                              input_shape]))\n",
    "\n",
    "#model.add(keras.layers.MaxPooling1D())\n",
    "#model.add(keras.layers.Flatten())\n",
    "# not sure if this is needed ...\n",
    "model.add(keras.layers.SimpleRNN(200, activation='relu', use_bias=True, \n",
    "                       kernel_initializer='glorot_uniform', recurrent_initializer='orthogonal', \n",
    "                       bias_initializer='zeros', kernel_regularizer=None, recurrent_regularizer=None, \n",
    "                       bias_regularizer=None, activity_regularizer=None, kernel_constraint=None, \n",
    "                       recurrent_constraint=None, bias_constraint=None, dropout=0.0, recurrent_dropout=0.0, \n",
    "                       return_sequences=False, return_state=False, go_backwards=False, stateful=False, unroll=False))\n",
    "'''\n",
    "model.add(keras.layers.MaxPooling1D())\n",
    "model.add(keras.layers.Flatten())\n",
    "#model.add(keras.layers.MaxPooling1D())\n",
    "#model.add(keras.layers.Flatten())\n",
    "#model.add(keras.layers.Dense(300, activation='relu'))\n",
    "#model.add(keras.layers.Dropout(.75, noise_shape=None, seed=None))\n",
    "#model.add(keras.layers.Dense(300, activation='relu'))\n",
    "#model.add(keras.layers.Dropout(.25, noise_shape=None, seed=None))\n",
    "model.add(keras.layers.Dense(y_training.shape[1], activation='softmax'))\n",
    "\n",
    "#sgd = keras.optimizers.SGD(lr=0.01, decay=1e-6, momentum=0.9, nesterov=True)\n",
    "\n",
    "model.compile(loss=keras.losses.categorical_crossentropy,\n",
    "    #optimizer = sgd,\n",
    "    optimizer=keras.optimizers.Adam(),\n",
    "    metrics=['accuracy'])\n",
    "\n",
    "model.summary()\n"
   ]
  },
  {
   "cell_type": "code",
   "execution_count": 480,
   "metadata": {},
   "outputs": [
    {
     "data": {
      "application/vnd.jupyter.widget-view+json": {
       "model_id": "b0d3451e88944d52b2c8f7e34e691304",
       "version_major": 2,
       "version_minor": 0
      },
      "text/html": [
       "<p>Failed to display Jupyter Widget of type <code>HBox</code>.</p>\n",
       "<p>\n",
       "  If you're reading this message in the Jupyter Notebook or JupyterLab Notebook, it may mean\n",
       "  that the widgets JavaScript is still loading. If this message persists, it\n",
       "  likely means that the widgets JavaScript library is either not installed or\n",
       "  not enabled. See the <a href=\"https://ipywidgets.readthedocs.io/en/stable/user_install.html\">Jupyter\n",
       "  Widgets Documentation</a> for setup instructions.\n",
       "</p>\n",
       "<p>\n",
       "  If you're reading this message in another frontend (for example, a static\n",
       "  rendering on GitHub or <a href=\"https://nbviewer.jupyter.org/\">NBViewer</a>),\n",
       "  it may mean that your frontend doesn't currently support widgets.\n",
       "</p>\n"
      ],
      "text/plain": [
       "HBox(children=(IntProgress(value=0, description='Training', max=5), HTML(value='')))"
      ]
     },
     "metadata": {},
     "output_type": "display_data"
    },
    {
     "data": {
      "application/vnd.jupyter.widget-view+json": {
       "model_id": "ce57eed75abf43f6b0c19c5beed44e1a",
       "version_major": 2,
       "version_minor": 0
      },
      "text/html": [
       "<p>Failed to display Jupyter Widget of type <code>HBox</code>.</p>\n",
       "<p>\n",
       "  If you're reading this message in the Jupyter Notebook or JupyterLab Notebook, it may mean\n",
       "  that the widgets JavaScript is still loading. If this message persists, it\n",
       "  likely means that the widgets JavaScript library is either not installed or\n",
       "  not enabled. See the <a href=\"https://ipywidgets.readthedocs.io/en/stable/user_install.html\">Jupyter\n",
       "  Widgets Documentation</a> for setup instructions.\n",
       "</p>\n",
       "<p>\n",
       "  If you're reading this message in another frontend (for example, a static\n",
       "  rendering on GitHub or <a href=\"https://nbviewer.jupyter.org/\">NBViewer</a>),\n",
       "  it may mean that your frontend doesn't currently support widgets.\n",
       "</p>\n"
      ],
      "text/plain": [
       "HBox(children=(IntProgress(value=0, description='Epoch 0', max=28), HTML(value='')))"
      ]
     },
     "metadata": {},
     "output_type": "display_data"
    },
    {
     "name": "stdout",
     "output_type": "stream",
     "text": [
      "\n"
     ]
    }
   ],
   "source": [
    "batch_size = 5\n",
    "epochs = 5\n",
    "history = model.fit(x_training, y_training,\n",
    "    batch_size=batch_size,\n",
    "    epochs=epochs,\n",
    "    verbose=0,\n",
    "    shuffle=True,\n",
    "    callbacks=[TQDMNotebookCallback()],\n",
    "    validation_split = 0.2)\n",
    "\n",
    "#x_te = np.array(x_te)\n",
    "\n",
    "#score = model.evaluate(x_te, np.array([y_te]), verbose=1)\n",
    "#print('Test loss:', score[0])\n",
    "#print('Test accuracy:', score[1])"
   ]
  },
  {
   "cell_type": "code",
   "execution_count": 481,
   "metadata": {},
   "outputs": [
    {
     "name": "stdout",
     "output_type": "stream",
     "text": [
      "(36, 300, 1)\n",
      "(36, 3)\n",
      "(16, 300, 1)\n",
      "(16, 3)\n"
     ]
    }
   ],
   "source": [
    "print(x_training.shape)\n",
    "print(y_training.shape)\n",
    "x_te = np.array(x_te)\n",
    "x_te = x_te.reshape(x_te.shape + (1,))\n",
    "print(x_te.shape)\n",
    "y_te = np.array(y_te)\n",
    "print(y_te.shape)"
   ]
  },
  {
   "cell_type": "code",
   "execution_count": 289,
   "metadata": {},
   "outputs": [
    {
     "name": "stdout",
     "output_type": "stream",
     "text": [
      "39/39 [==============================] - 1s 30ms/step\n",
      "Test loss: 3.3630230182256455\n",
      "Test accuracy: 0.10256410256410256\n"
     ]
    }
   ],
   "source": [
    "score = model.evaluate(x_te, y_te, verbose=1)\n",
    "preds = model.predict_on_batch(x_training)\n",
    "print('Test loss:', score[0])\n",
    "print('Test accuracy:', score[1])"
   ]
  },
  {
   "cell_type": "code",
   "execution_count": 482,
   "metadata": {},
   "outputs": [
    {
     "name": "stdout",
     "output_type": "stream",
     "text": [
      "16/16 [==============================] - 0s 4ms/step\n",
      "Test loss: 4.302225112915039\n",
      "Test accuracy: 0.75\n"
     ]
    },
    {
     "data": {
      "image/png": "[encoded data removed]",
      "text/plain": [
       "<matplotlib.figure.Figure at 0x7f3310f02e80>"
      ]
     },
     "metadata": {},
     "output_type": "display_data"
    }
   ],
   "source": [
    "score = model.evaluate(x_te, y_te, verbose=1)\n",
    "preds = model.predict_on_batch(x_te)\n",
    "print('Test loss:', score[0])\n",
    "print('Test accuracy:', score[1])\n",
    "\n",
    "plt.subplot(211)\n",
    "plt.plot(history.history['acc'])\n",
    "plt.plot(history.history['val_acc'])\n",
    "plt.title('model accuracy')\n",
    "plt.ylabel('accuracy')\n",
    "plt.xlabel('epoch')\n",
    "plt.legend(['train', 'test'], loc='upper left')\n",
    "# summarize history for loss\n",
    "plt.subplot(212)\n",
    "plt.plot(history.history['loss'])\n",
    "plt.plot(history.history['val_loss'])\n",
    "plt.title('model loss')\n",
    "plt.ylabel('loss')\n",
    "plt.xlabel('epoch')\n",
    "plt.legend(['train', 'test'], loc='upper left')\n",
    "plt.tight_layout()\n",
    "plt.show()"
   ]
  },
  {
   "cell_type": "code",
   "execution_count": 483,
   "metadata": {},
   "outputs": [
    {
     "name": "stdout",
     "output_type": "stream",
     "text": [
      "3\n",
      "[0.34726775 0.3227823  0.32994995] 0 [1. 0. 0.] Guessed: A1A1BM6N28X9J0 Actual: A1A1BM6N28X9J0 Correct\n",
      "[0.37330195 0.3185686  0.30812946] 0 [1. 0. 0.] Guessed: A1A1BM6N28X9J0 Actual: A1A1BM6N28X9J0 Correct\n",
      "[0.34645855 0.32945475 0.32408673] 0 [1. 0. 0.] Guessed: A1A1BM6N28X9J0 Actual: A1A1BM6N28X9J0 Correct\n",
      "[0.38025454 0.30946198 0.31028354] 0 [1. 0. 0.] Guessed: A1A1BM6N28X9J0 Actual: A1A1BM6N28X9J0 Correct\n",
      "[0.3864661  0.32487068 0.28866324] 0 [1. 0. 0.] Guessed: A1A1BM6N28X9J0 Actual: A1A1BM6N28X9J0 Correct\n",
      "[0.35691175 0.3331463  0.30994195] 0 [1. 0. 0.] Guessed: A1A1BM6N28X9J0 Actual: A1A1BM6N28X9J0 Correct\n",
      "[0.33250794 0.33204743 0.3354447 ] 2 [1. 0. 0.] Guessed: A1A4L7VRD74WXT Actual: A1A1BM6N28X9J0 Incorrect\n",
      "[0.35522437 0.32544112 0.31933445] 0 [1. 0. 0.] Guessed: A1A1BM6N28X9J0 Actual: A1A1BM6N28X9J0 Correct\n",
      "[0.3586827  0.31518704 0.32613033] 0 [1. 0. 0.] Guessed: A1A1BM6N28X9J0 Actual: A1A1BM6N28X9J0 Correct\n",
      "[0.33328083 0.33030954 0.3364097 ] 2 [1. 0. 0.] Guessed: A1A4L7VRD74WXT Actual: A1A1BM6N28X9J0 Incorrect\n",
      "[0.3485191  0.31658077 0.33490005] 0 [1. 0. 0.] Guessed: A1A1BM6N28X9J0 Actual: A1A1BM6N28X9J0 Correct\n",
      "[0.3999107  0.33380434 0.26628497] 0 [0. 1. 0.] Guessed: A1A1BM6N28X9J0 Actual: A1A2F1ZOWOPNJB Incorrect\n",
      "[0.33149192 0.33224586 0.3362622 ] 2 [0. 1. 0.] Guessed: A1A4L7VRD74WXT Actual: A1A2F1ZOWOPNJB Incorrect\n",
      "[0.33215618 0.33205253 0.3357913 ] 2 [0. 0. 1.] Guessed: A1A4L7VRD74WXT Actual: A1A4L7VRD74WXT Correct\n",
      "[0.33218518 0.3321513  0.3356636 ] 2 [0. 0. 1.] Guessed: A1A4L7VRD74WXT Actual: A1A4L7VRD74WXT Correct\n",
      "[0.33227637 0.33188328 0.33584037] 2 [0. 0. 1.] Guessed: A1A4L7VRD74WXT Actual: A1A4L7VRD74WXT Correct\n",
      "Correct: 12 Incorrect: 4 Out of: 16\n"
     ]
    }
   ],
   "source": [
    "'''\n",
    "for y in range(0,len(preds)):\n",
    "    m = max(preds[y][0:500])\n",
    "    index = 0\n",
    "    for i in range(0,500): #preds[0][0:500]:\n",
    "        if preds[0][i] == m:\n",
    "            index = i\n",
    "    print(index)\n",
    "'''\n",
    "\n",
    "def get_auth(l):\n",
    "    #l = list(l)\n",
    "    for i in unique:\n",
    "        if (unique[i] == l).all():\n",
    "            return i\n",
    "\n",
    "#m = max(preds[120])\n",
    "print(len(preds[0]))\n",
    "index = 0\n",
    "incorrect = 0\n",
    "correct = 0\n",
    "for i in range(len(preds)): #preds[0][0:500]:\n",
    "    m = max(preds[i])\n",
    "    index = list(preds[i]).index(m)\n",
    "    l = np.zeros(authors)\n",
    "    l[index] = 1\n",
    "    #print(get_auth(l))\n",
    "    print(preds[i],index,y_te[i],'Guessed:',get_auth(l),'Actual:',get_auth(y_te[i]),end=' ')\n",
    "    #for auth in unique:\n",
    "    #if unique[auth][index] == 1:\n",
    "    #    print('True')\n",
    "    #else:\n",
    "    #    print('False')\n",
    "        #print(auth)\n",
    "    if y_te[i][index] == 1:\n",
    "        print('Correct')\n",
    "        correct += 1\n",
    "    else:\n",
    "        print('Incorrect')\n",
    "        incorrect += 1\n",
    "\n",
    "print('Correct:',correct,'Incorrect:',incorrect,'Out of:',(correct+incorrect))\n",
    "    \n"
   ]
  },
  {
   "cell_type": "code",
   "execution_count": null,
   "metadata": {},
   "outputs": [],
   "source": []
  }
 ],
 "metadata": {
  "kernelspec": {
   "display_name": "Python 3",
   "language": "python",
   "name": "python3"
  },
  "language_info": {
   "codemirror_mode": {
    "name": "ipython",
    "version": 3
   },
   "file_extension": ".py",
   "mimetype": "text/x-python",
   "name": "python",
   "nbconvert_exporter": "python",
   "pygments_lexer": "ipython3",
   "version": "3.5.3"
  }
 },
 "nbformat": 4,
 "nbformat_minor": 2
}
