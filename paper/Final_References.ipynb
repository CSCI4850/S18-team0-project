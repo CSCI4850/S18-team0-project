{
 "cells": [
  {
   "cell_type": "raw",
   "metadata": {},
   "source": [
    "@article{b1,\n",
    "  author = \"Koppel, M. and Winter, Y\",\n",
    "   title = \"A formula for the {E}uler characteristic of singular hypersurfaces\",\n",
    " journal = \"Journal of the Association for Information Science and Technology\",\n",
    "  volume = 65,\n",
    "    year = 2014,\n",
    "   pages = \"178--187\"\n",
    "}"
   ]
  },
  {
   "cell_type": "raw",
   "metadata": {},
   "source": [
    "@article{b2,\n",
    "  author = \"Le, Q. and Mikolov, T.\",\n",
    "   title = \"Distributed representations of sentences and documents\",\n",
    " journal = \"International Conference on Machine Learning\",\n",
    "    year = 2014,\n",
    "   pages = \"1188-1196\"\n",
    "}"
   ]
  },
  {
   "cell_type": "raw",
   "metadata": {},
   "source": [
    "@article{b3,\n",
    "    author = \"Shrestha, P., Sierra, S., Gonzalez, F., Montes, M., Rosso, P. and Solorio, T.\",\n",
    "    title = \"Convolutional neural networks for authorship attribution of short texts\",\n",
    "    journal = \"Proceedings of the 15th Conference of the European Chapter of the Association for Computational Linguistics\",\n",
    "    volume = 1,\n",
    "    year = 2017,\n",
    "    pages= \"679--674\"\n",
    "}"
   ]
  },
  {
   "cell_type": "raw",
   "metadata": {},
   "source": [
    "@article{b4,\n",
    "  author = \"Mikolov, T., Sutskever, I., Chen, K., Corrado, G.S., and Dean, J.\",\n",
    "   title = \"Distributed representations of words and phrases and their compositionality.\",\n",
    " journal = \"Advances in neural information systems\",\n",
    "    year = 2013,\n",
    "   pages = \"3111-3119\"\n",
    "}\n"
   ]
  }
 ],
 "metadata": {
  "kernelspec": {
   "display_name": "Python 3",
   "language": "python",
   "name": "python3"
  },
  "language_info": {
   "codemirror_mode": {
    "name": "ipython",
    "version": 3
   },
   "file_extension": ".py",
   "mimetype": "text/x-python",
   "name": "python",
   "nbconvert_exporter": "python",
   "pygments_lexer": "ipython3",
   "version": "3.5.3"
  }
 },
 "nbformat": 4,
 "nbformat_minor": 2
}
